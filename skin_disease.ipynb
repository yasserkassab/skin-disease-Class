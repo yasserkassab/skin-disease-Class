{
  "nbformat": 4,
  "nbformat_minor": 0,
  "metadata": {
    "colab": {
      "provenance": [],
      "gpuType": "T4"
    },
    "kernelspec": {
      "name": "python3",
      "display_name": "Python 3"
    },
    "language_info": {
      "name": "python"
    },
    "accelerator": "GPU"
  },
  "cells": [
    {
      "cell_type": "code",
      "source": [
        "!pip install kaggle"
      ],
      "metadata": {
        "colab": {
          "base_uri": "https://localhost:8080/"
        },
        "id": "ER0AQXmzc0w4",
        "outputId": "8807100c-c219-4ee6-84f9-9fe991d50424"
      },
      "execution_count": null,
      "outputs": [
        {
          "output_type": "stream",
          "name": "stdout",
          "text": [
            "Requirement already satisfied: kaggle in /usr/local/lib/python3.10/dist-packages (1.6.17)\n",
            "Requirement already satisfied: six>=1.10 in /usr/local/lib/python3.10/dist-packages (from kaggle) (1.17.0)\n",
            "Requirement already satisfied: certifi>=2023.7.22 in /usr/local/lib/python3.10/dist-packages (from kaggle) (2024.12.14)\n",
            "Requirement already satisfied: python-dateutil in /usr/local/lib/python3.10/dist-packages (from kaggle) (2.8.2)\n",
            "Requirement already satisfied: requests in /usr/local/lib/python3.10/dist-packages (from kaggle) (2.32.3)\n",
            "Requirement already satisfied: tqdm in /usr/local/lib/python3.10/dist-packages (from kaggle) (4.67.1)\n",
            "Requirement already satisfied: python-slugify in /usr/local/lib/python3.10/dist-packages (from kaggle) (8.0.4)\n",
            "Requirement already satisfied: urllib3 in /usr/local/lib/python3.10/dist-packages (from kaggle) (2.3.0)\n",
            "Requirement already satisfied: bleach in /usr/local/lib/python3.10/dist-packages (from kaggle) (6.2.0)\n",
            "Requirement already satisfied: webencodings in /usr/local/lib/python3.10/dist-packages (from bleach->kaggle) (0.5.1)\n",
            "Requirement already satisfied: text-unidecode>=1.3 in /usr/local/lib/python3.10/dist-packages (from python-slugify->kaggle) (1.3)\n",
            "Requirement already satisfied: charset-normalizer<4,>=2 in /usr/local/lib/python3.10/dist-packages (from requests->kaggle) (3.4.1)\n",
            "Requirement already satisfied: idna<4,>=2.5 in /usr/local/lib/python3.10/dist-packages (from requests->kaggle) (3.10)\n"
          ]
        }
      ]
    },
    {
      "cell_type": "code",
      "source": [
        "!cp /kaggle.json ~/.kaggle\n",
        "!chmod 600 ~/.kaggle/kaggle.json"
      ],
      "metadata": {
        "colab": {
          "base_uri": "https://localhost:8080/"
        },
        "id": "P7sNQseaea8E",
        "outputId": "bde02690-0858-4e9d-feb0-c4648733e4b9"
      },
      "execution_count": null,
      "outputs": [
        {
          "output_type": "stream",
          "name": "stdout",
          "text": [
            "chmod: cannot access '/root/.kaggle/kaggle.json': Not a directory\n"
          ]
        }
      ]
    },
    {
      "cell_type": "code",
      "source": [
        "!kaggle datasets download -d subirbiswas19/skin-disease-dataset"
      ],
      "metadata": {
        "colab": {
          "base_uri": "https://localhost:8080/"
        },
        "id": "YlVdHPIigbv4",
        "outputId": "97cf7d92-833c-402b-fe90-10b1a789c894"
      },
      "execution_count": null,
      "outputs": [
        {
          "output_type": "stream",
          "name": "stdout",
          "text": [
            "Dataset URL: https://www.kaggle.com/datasets/subirbiswas19/skin-disease-dataset\n",
            "License(s): CC0-1.0\n",
            "Downloading skin-disease-dataset.zip to /content\n",
            " 93% 16.0M/17.3M [00:01<00:00, 17.4MB/s]\n",
            "100% 17.3M/17.3M [00:01<00:00, 9.80MB/s]\n"
          ]
        }
      ]
    },
    {
      "cell_type": "code",
      "source": [
        "!unzip -q skin-disease-dataset.zip -d /content/skin-disease-dataset"
      ],
      "metadata": {
        "id": "gAjU9m61hgFj"
      },
      "execution_count": null,
      "outputs": []
    },
    {
      "cell_type": "markdown",
      "source": [
        "Import Libraries and Setup"
      ],
      "metadata": {
        "id": "n_YELrQ9g5do"
      }
    },
    {
      "cell_type": "code",
      "source": [
        "import torch\n",
        "import torch.nn as nn\n",
        "import torch.optim as optim\n",
        "from torchvision import datasets, transforms, models\n",
        "from torch.utils.data import DataLoader\n",
        "import numpy as np\n",
        "from sklearn.metrics import confusion_matrix, classification_report\n",
        "import matplotlib.pyplot as plt\n",
        "\n",
        "# Check device\n",
        "#device = torch.device(\"cuda\" if torch.cuda.is_available() else \"cpu\")\n",
        "#print(f\"Using device: {device}\")\n"
      ],
      "metadata": {
        "id": "x8HL3uJpg24Q"
      },
      "execution_count": null,
      "outputs": []
    },
    {
      "cell_type": "markdown",
      "source": [
        "Data Preparation"
      ],
      "metadata": {
        "id": "dmfgqnK5g_Qh"
      }
    },
    {
      "cell_type": "code",
      "source": [
        "# Define transformations\n",
        "data_transforms = {\n",
        "    \"train\": transforms.Compose([\n",
        "        transforms.RandomResizedCrop(224),\n",
        "        transforms.RandomHorizontalFlip(),\n",
        "        transforms.ToTensor(),\n",
        "        transforms.Normalize([0.485, 0.456, 0.406], [0.229, 0.224, 0.225])\n",
        "    ]),\n",
        "    \"val\": transforms.Compose([\n",
        "        transforms.Resize(256),\n",
        "        transforms.CenterCrop(224),\n",
        "        transforms.ToTensor(),\n",
        "        transforms.Normalize([0.485, 0.456, 0.406], [0.229, 0.224, 0.225])\n",
        "    ])\n",
        "}\n",
        "\n",
        "# Load datasets\n",
        "#data_dir = '/content/skin-disease-dataset'\n",
        "#\n",
        "#image_datasets = {\n",
        "#    x: datasets.ImageFolder(root=f\"{data_dir}/{x}\", transform=data_transforms[x])\n",
        "#    for x in ['train', 'val']\n",
        "#}\n",
        "\n",
        "#/content/skin-disease-dataset/skin-disease-datasaet\n",
        "# Corrected data directory\n",
        "data_dir = '/content/skin-disease-dataset/skin-disease-datasaet'\n",
        "\n",
        "# Load datasets\n",
        "image_datasets = {\n",
        "    'train': datasets.ImageFolder(root=f\"{data_dir}/train_set\", transform=data_transforms['train']),\n",
        "    'val': datasets.ImageFolder(root=f\"{data_dir}/test_set\", transform=data_transforms['val'])\n",
        "}\n",
        "\n",
        "dataloaders = {\n",
        "    x: DataLoader(image_datasets[x], batch_size=32, shuffle=True, num_workers=4)\n",
        "    for x in ['train', 'val']\n",
        "}\n",
        "\n",
        "dataset_sizes = {x: len(image_datasets[x]) for x in ['train', 'val']}\n",
        "class_names = image_datasets['train'].classes\n",
        "\n",
        "print(f\"Classes: {class_names}\")\n"
      ],
      "metadata": {
        "id": "Rvv145IYhCLt",
        "colab": {
          "base_uri": "https://localhost:8080/"
        },
        "outputId": "74c52d89-4c1e-4096-e42c-c9b14456100a"
      },
      "execution_count": null,
      "outputs": [
        {
          "output_type": "stream",
          "name": "stdout",
          "text": [
            "Classes: ['BA- cellulitis', 'BA-impetigo', 'FU-athlete-foot', 'FU-nail-fungus', 'FU-ringworm', 'PA-cutaneous-larva-migrans', 'VI-chickenpox', 'VI-shingles']\n"
          ]
        },
        {
          "output_type": "stream",
          "name": "stderr",
          "text": [
            "/usr/local/lib/python3.10/dist-packages/torch/utils/data/dataloader.py:617: UserWarning: This DataLoader will create 4 worker processes in total. Our suggested max number of worker in current system is 2, which is smaller than what this DataLoader is going to create. Please be aware that excessive worker creation might get DataLoader running slow or even freeze, lower the worker number to avoid potential slowness/freeze if necessary.\n",
            "  warnings.warn(\n"
          ]
        }
      ]
    },
    {
      "cell_type": "markdown",
      "source": [
        "Model Setup"
      ],
      "metadata": {
        "id": "cO8i1xsghFDX"
      }
    },
    {
      "cell_type": "code",
      "source": [
        "# Load pre-trained ResNet-50\n",
        "model = models.resnet50(pretrained=True)\n",
        "\n",
        "# Modify the last fully connected layer\n",
        "num_ftrs = model.fc.in_features\n",
        "model.fc = nn.Linear(num_ftrs, len(class_names))  # Output for 8 classes\n",
        "# Explicitly set device to cuda if available, otherwise cpu\n",
        "device = torch.device(\"cuda\" if torch.cuda.is_available() else \"cpu\")\n",
        "print(f\"Using device: {device}\")\n",
        "\n",
        "# Move model to the specified device\n",
        "model = model.to(device)\n",
        "\n",
        "# Define loss function and optimizer\n",
        "criterion = nn.CrossEntropyLoss()\n",
        "optimizer = optim.Adam(model.parameters(), lr=0.0001, weight_decay=0.0001)\n"
      ],
      "metadata": {
        "id": "fIbR-44ehGr1",
        "colab": {
          "base_uri": "https://localhost:8080/"
        },
        "outputId": "a754553e-e83a-4d7f-dd28-9200a57c0cba"
      },
      "execution_count": 42,
      "outputs": [
        {
          "output_type": "stream",
          "name": "stderr",
          "text": [
            "/usr/local/lib/python3.10/dist-packages/torchvision/models/_utils.py:208: UserWarning: The parameter 'pretrained' is deprecated since 0.13 and may be removed in the future, please use 'weights' instead.\n",
            "  warnings.warn(\n",
            "/usr/local/lib/python3.10/dist-packages/torchvision/models/_utils.py:223: UserWarning: Arguments other than a weight enum or `None` for 'weights' are deprecated since 0.13 and may be removed in the future. The current behavior is equivalent to passing `weights=ResNet50_Weights.IMAGENET1K_V1`. You can also use `weights=ResNet50_Weights.DEFAULT` to get the most up-to-date weights.\n",
            "  warnings.warn(msg)\n"
          ]
        },
        {
          "output_type": "stream",
          "name": "stdout",
          "text": [
            "Using device: cuda\n"
          ]
        }
      ]
    },
    {
      "cell_type": "markdown",
      "source": [
        "Training and Validation"
      ],
      "metadata": {
        "id": "cUrIYeCIhIZS"
      }
    },
    {
      "cell_type": "code",
      "source": [
        "import matplotlib.pyplot as plt\n",
        "\n",
        "# Training function\n",
        "def train_model(model, criterion, optimizer, dataloaders, dataset_sizes, num_epochs=25):\n",
        "    best_model_wts = model.state_dict()\n",
        "    best_acc = 0.0\n",
        "\n",
        "    # Lists to store metrics\n",
        "    train_losses = []\n",
        "    val_losses = []\n",
        "    train_accuracies = []\n",
        "    val_accuracies = []\n",
        "\n",
        "    for epoch in range(num_epochs):\n",
        "        print(f\"Epoch {epoch + 1}/{num_epochs}\")\n",
        "        print(\"-\" * 10)\n",
        "\n",
        "        for phase in ['train', 'val']:\n",
        "            if phase == 'train':\n",
        "                model.train()\n",
        "            else:\n",
        "                model.eval()\n",
        "\n",
        "            running_loss = 0.0\n",
        "            running_corrects = 0\n",
        "\n",
        "            for inputs, labels in dataloaders[phase]:\n",
        "                inputs, labels = inputs.to(device), labels.to(device)\n",
        "\n",
        "                # Forward pass\n",
        "                with torch.set_grad_enabled(phase == 'train'):\n",
        "                    outputs = model(inputs)\n",
        "                    _, preds = torch.max(outputs, 1)\n",
        "                    loss = criterion(outputs, labels)\n",
        "\n",
        "                    # Backward pass and optimization\n",
        "                    if phase == 'train':\n",
        "                        optimizer.zero_grad()\n",
        "                        loss.backward()\n",
        "                        optimizer.step()\n",
        "\n",
        "                running_loss += loss.item() * inputs.size(0)\n",
        "                running_corrects += torch.sum(preds == labels.data)\n",
        "\n",
        "            epoch_loss = running_loss / dataset_sizes[phase]\n",
        "            epoch_acc = running_corrects.double() / dataset_sizes[phase]\n",
        "\n",
        "            print(f\"{phase} Loss: {epoch_loss:.4f} Acc: {epoch_acc:.4f}\")\n",
        "\n",
        "            # Store metrics\n",
        "            if phase == 'train':\n",
        "                train_losses.append(epoch_loss)\n",
        "                train_accuracies.append(epoch_acc.cpu().item()) # Convert to CPU and get the value\n",
        "            else:\n",
        "                val_losses.append(epoch_loss)\n",
        "                val_accuracies.append(epoch_acc.cpu().item()) # Convert to CPU and get the value\n",
        "\n",
        "            # Save best model\n",
        "            if phase == 'val' and epoch_acc > best_acc:\n",
        "                best_acc = epoch_acc\n",
        "                best_model_wts = model.state_dict()\n",
        "\n",
        "    print(f\"Best val Acc: {best_acc:.4f}\")\n",
        "    model.load_state_dict(best_model_wts)\n",
        "\n",
        "    # Plotting the training and validation loss and accuracy\n",
        "    plt.figure(figsize=(12, 5))\n",
        "\n",
        "    # Loss plot\n",
        "    plt.subplot(1, 2, 1)\n",
        "    plt.plot(range(1, num_epochs + 1), train_losses, label='Train Loss')\n",
        "    plt.plot(range(1, num_epochs + 1), val_losses, label='Val Loss')\n",
        "    plt.title('Loss over Epochs')\n",
        "    plt.xlabel('Epochs')\n",
        "    plt.ylabel('Loss')\n",
        "    plt.legend()\n",
        "\n",
        "    # Accuracy plot\n",
        "    plt.subplot(1, 2, 2)\n",
        "    plt.plot(range(1, num_epochs + 1), train_accuracies, label='Train Accuracy')\n",
        "    plt.plot(range(1, num_epochs + 1), val_accuracies, label='Val Accuracy')\n",
        "    plt.title('Accuracy over Epochs')\n",
        "    plt.xlabel('Epochs')\n",
        "    plt.ylabel('Accuracy')\n",
        "    plt.legend()\n",
        "\n",
        "    plt.show()\n",
        "\n",
        "    return model\n",
        "\n",
        "model = train_model(model, criterion, optimizer, dataloaders, dataset_sizes, num_epochs=10)"
      ],
      "metadata": {
        "id": "rXS2lOk-hKgn",
        "colab": {
          "base_uri": "https://localhost:8080/",
          "height": 1000
        },
        "outputId": "0b877892-d685-43cc-a91f-4af604979be3"
      },
      "execution_count": 43,
      "outputs": [
        {
          "output_type": "stream",
          "name": "stdout",
          "text": [
            "Epoch 1/10\n",
            "----------\n"
          ]
        },
        {
          "output_type": "stream",
          "name": "stderr",
          "text": [
            "/usr/local/lib/python3.10/dist-packages/torch/utils/data/dataloader.py:617: UserWarning: This DataLoader will create 4 worker processes in total. Our suggested max number of worker in current system is 2, which is smaller than what this DataLoader is going to create. Please be aware that excessive worker creation might get DataLoader running slow or even freeze, lower the worker number to avoid potential slowness/freeze if necessary.\n",
            "  warnings.warn(\n"
          ]
        },
        {
          "output_type": "stream",
          "name": "stdout",
          "text": [
            "train Loss: 1.1077 Acc: 0.6627\n",
            "val Loss: 0.3308 Acc: 0.8675\n",
            "Epoch 2/10\n",
            "----------\n",
            "train Loss: 0.4192 Acc: 0.8735\n",
            "val Loss: 0.2411 Acc: 0.9231\n",
            "Epoch 3/10\n",
            "----------\n",
            "train Loss: 0.3106 Acc: 0.8930\n",
            "val Loss: 0.2153 Acc: 0.9316\n",
            "Epoch 4/10\n",
            "----------\n",
            "train Loss: 0.2921 Acc: 0.9135\n",
            "val Loss: 0.1550 Acc: 0.9530\n",
            "Epoch 5/10\n",
            "----------\n",
            "train Loss: 0.2254 Acc: 0.9319\n",
            "val Loss: 0.0998 Acc: 0.9658\n",
            "Epoch 6/10\n",
            "----------\n",
            "train Loss: 0.2201 Acc: 0.9308\n",
            "val Loss: 0.1270 Acc: 0.9444\n",
            "Epoch 7/10\n",
            "----------\n",
            "train Loss: 0.2007 Acc: 0.9427\n",
            "val Loss: 0.1515 Acc: 0.9274\n",
            "Epoch 8/10\n",
            "----------\n",
            "train Loss: 0.2108 Acc: 0.9384\n",
            "val Loss: 0.1542 Acc: 0.9444\n",
            "Epoch 9/10\n",
            "----------\n",
            "train Loss: 0.1617 Acc: 0.9503\n",
            "val Loss: 0.1243 Acc: 0.9573\n",
            "Epoch 10/10\n",
            "----------\n",
            "train Loss: 0.1494 Acc: 0.9589\n",
            "val Loss: 0.1216 Acc: 0.9658\n",
            "Best val Acc: 0.9658\n"
          ]
        },
        {
          "output_type": "display_data",
          "data": {
            "text/plain": [
              "<Figure size 1200x500 with 2 Axes>"
            ],
            "image/png": "[encoded data removed]"
          },
          "metadata": {}
        }
      ]
    },
    {
      "cell_type": "markdown",
      "source": [
        "\n",
        "Evaluation"
      ],
      "metadata": {
        "id": "q7XyMYKphO03"
      }
    },
    {
      "cell_type": "code",
      "source": [
        "import seaborn as sns\n",
        "# Test the model on validation set\n",
        "def evaluate_model(model, dataloader):\n",
        "    model.eval()\n",
        "    all_preds = []\n",
        "    all_labels = []\n",
        "\n",
        "    with torch.no_grad():\n",
        "        for inputs, labels in dataloader:\n",
        "            inputs, labels = inputs.to(device), labels.to(device)\n",
        "            outputs = model(inputs)\n",
        "            _, preds = torch.max(outputs, 1)\n",
        "            all_preds.extend(preds.cpu().numpy())\n",
        "            all_labels.extend(labels.cpu().numpy())\n",
        "\n",
        "    # Confusion matrix and classification report\n",
        "    cm = confusion_matrix(all_labels, all_preds) # Calculate the confusion matrix\n",
        "    print(\"Confusion Matrix:\")\n",
        "    print(cm)\n",
        "    print(\"\\nClassification Report:\")\n",
        "    print(classification_report(all_labels, all_preds, target_names=class_names))\n",
        "\n",
        "    # Pass the calculated confusion matrix 'cm' to sns.heatmap\n",
        "    plt.figure(figsize=(10, 8))\n",
        "    sns.heatmap(cm, annot=True, fmt='d', cmap='Blues', cbar=False,\n",
        "                xticklabels=[0, 1, 2, 3, 4, 5, 6, 7],\n",
        "                yticklabels=[0, 1, 2, 3, 4, 5, 6, 7])\n",
        "    plt.title('Confusion Matrix')\n",
        "    plt.xlabel('Predicted Label')\n",
        "    plt.ylabel('True Label')\n",
        "    plt.show()\n",
        "\n",
        "evaluate_model(model, dataloaders['val'])"
      ],
      "metadata": {
        "id": "SCHPDCoghMl9",
        "colab": {
          "base_uri": "https://localhost:8080/",
          "height": 1000
        },
        "outputId": "7b3a471e-aafb-412d-8be8-14d3605267bc"
      },
      "execution_count": 44,
      "outputs": [
        {
          "output_type": "stream",
          "name": "stdout",
          "text": [
            "Confusion Matrix:\n",
            "[[31  0  1  0  0  0  0  2]\n",
            " [ 0 20  0  0  0  0  0  0]\n",
            " [ 2  0 30  0  0  0  0  0]\n",
            " [ 0  0  1 32  0  0  0  0]\n",
            " [ 1  0  0  0 21  0  0  1]\n",
            " [ 0  0  0  0  0 25  0  0]\n",
            " [ 0  0  0  0  0  0 34  0]\n",
            " [ 0  0  0  0  0  0  0 33]]\n",
            "\n",
            "Classification Report:\n",
            "                            precision    recall  f1-score   support\n",
            "\n",
            "            BA- cellulitis       0.91      0.91      0.91        34\n",
            "               BA-impetigo       1.00      1.00      1.00        20\n",
            "           FU-athlete-foot       0.94      0.94      0.94        32\n",
            "            FU-nail-fungus       1.00      0.97      0.98        33\n",
            "               FU-ringworm       1.00      0.91      0.95        23\n",
            "PA-cutaneous-larva-migrans       1.00      1.00      1.00        25\n",
            "             VI-chickenpox       1.00      1.00      1.00        34\n",
            "               VI-shingles       0.92      1.00      0.96        33\n",
            "\n",
            "                  accuracy                           0.97       234\n",
            "                 macro avg       0.97      0.97      0.97       234\n",
            "              weighted avg       0.97      0.97      0.97       234\n",
            "\n"
          ]
        },
        {
          "output_type": "display_data",
          "data": {
            "text/plain": [
              "<Figure size 1000x800 with 1 Axes>"
            ],
            "image/png": "[encoded data removed]"
          },
          "metadata": {}
        }
      ]
    },
    {
      "cell_type": "markdown",
      "source": [
        "Save model"
      ],
      "metadata": {
        "id": "Hc5XWKbchQ6u"
      }
    },
    {
      "cell_type": "code",
      "source": [
        "torch.save(model.state_dict(), \"resnet5_skin_dise0ase.pth\")"
      ],
      "metadata": {
        "id": "iOTChy98hVpm"
      },
      "execution_count": 45,
      "outputs": []
    }
  ]
}